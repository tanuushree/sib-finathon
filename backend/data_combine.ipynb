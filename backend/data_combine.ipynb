{
 "cells": [
  {
   "cell_type": "code",
   "execution_count": 2,
   "metadata": {},
   "outputs": [],
   "source": [
    "import pandas as pd"
   ]
  },
  {
   "cell_type": "code",
   "execution_count": 20,
   "metadata": {},
   "outputs": [],
   "source": [
    "import pandas as pd\n",
    "\n",
    "# Read the two CSV files\n",
    "df1 = pd.read_csv('datasets/1M.csv')\n",
    "df2 = pd.read_csv('datasets/embedded_dataset.csv')\n",
    "\n",
    "# Ensure both dataframes have the same columns\n",
    "common_columns = df1.columns\n",
    "df2 = df2[common_columns]\n",
    "\n",
    "# Combine the dataframes vertically with the correct column order\n",
    "df_combined = pd.concat([df1, df2], ignore_index=True)\n",
    "\n",
    "# Save the combined dataframe to a new CSV file\n",
    "df_combined.to_csv('datasets/2M.csv', index=False)"
   ]
  }
 ],
 "metadata": {
  "kernelspec": {
   "display_name": "tf",
   "language": "python",
   "name": "python3"
  },
  "language_info": {
   "codemirror_mode": {
    "name": "ipython",
    "version": 3
   },
   "file_extension": ".py",
   "mimetype": "text/x-python",
   "name": "python",
   "nbconvert_exporter": "python",
   "pygments_lexer": "ipython3",
   "version": "3.10.11"
  }
 },
 "nbformat": 4,
 "nbformat_minor": 2
}

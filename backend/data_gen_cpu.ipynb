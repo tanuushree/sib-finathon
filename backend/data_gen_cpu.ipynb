{
 "cells": [
  {
   "cell_type": "code",
   "execution_count": 1,
   "metadata": {},
   "outputs": [],
   "source": [
    "import pandas as pd\n",
    "import random\n",
    "from datetime import datetime, timedelta"
   ]
  },
  {
   "cell_type": "code",
   "execution_count": null,
   "metadata": {},
   "outputs": [],
   "source": [
    "num_rows = 1000000\n",
    "lower_limit = 812\n",
    "upper_limit = 1622\n",
    "df = pd.DataFrame(columns=[\"customer_id\", \"timestamp\", \"action\"])\n",
    "actions = ['app_login', 'gold_loan_renew', 'transaction_imps',\n",
    "           'priority_banking_request', 'fd_open_1', 'fd_open_2', 'rd_opening',\n",
    "           'transaction_own_acc', 'fd_open_5', 'billpay_recharge',\n",
    "           'kyc_update_DrivingLicence', 'FOR_add_beneficiary', 'FOR_send_money',\n",
    "           'fsld_open', 'kyc_update_Aadhaar/Address', 'kyc_update_PAN',\n",
    "           'kyc_update_VoterID', 'fast_tag', 'mail_id_update', 'transaction_neft',\n",
    "           'fd_open_8', 'fd_open_12', 'fd_open_4', 'fd_open_3', 'fd_open_10',\n",
    "           'apply_apy', 'fd_open_7', 'fd_open_9', 'fd_open_6', 'fd_open_13',\n",
    "           'fd_open_14', 'fd_open_11', 'fd_open_16', 'fd_open_15']\n",
    "for _ in range(num_rows):\n",
    "    customer_id = random.randint(lower_limit, upper_limit)\n",
    "    start_date = datetime(2020, 7, 11)\n",
    "    end_date = datetime(2023, 5, 19)\n",
    "    random_date = start_date + timedelta(seconds=random.randint(0, int((end_date - start_date).total_seconds())))\n",
    "    action = random.choice(actions)\n",
    "    \n",
    "    df = df.append({\"customer_id\": customer_id, \"timestamp\": random_date, \"action\": action}, ignore_index=True)\n",
    "df.to_csv(r\"datasets/generatedtempdelete.csv\", index=False)"
   ]
  }
 ],
 "metadata": {
  "kernelspec": {
   "display_name": "tf",
   "language": "python",
   "name": "python3"
  },
  "language_info": {
   "codemirror_mode": {
    "name": "ipython",
    "version": 3
   },
   "file_extension": ".py",
   "mimetype": "text/x-python",
   "name": "python",
   "nbconvert_exporter": "python",
   "pygments_lexer": "ipython3",
   "version": "3.10.11"
  }
 },
 "nbformat": 4,
 "nbformat_minor": 2
}
